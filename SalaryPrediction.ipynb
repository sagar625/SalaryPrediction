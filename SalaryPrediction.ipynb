{
  "nbformat": 4,
  "nbformat_minor": 0,
  "metadata": {
    "colab": {
      "name": "SalaryPrediction.ipynb",
      "provenance": [],
      "collapsed_sections": [],
      "machine_shape": "hm",
      "include_colab_link": true
    },
    "kernelspec": {
      "name": "python3",
      "display_name": "Python 3"
    }
  },
  "cells": [
    {
      "cell_type": "markdown",
      "metadata": {
        "id": "view-in-github",
        "colab_type": "text"
      },
      "source": [
        "<a href=\"https://colab.research.google.com/github/sagar625/SalaryPrediction/blob/master/SalaryPrediction.ipynb\" target=\"_parent\"><img src=\"https://colab.research.google.com/assets/colab-badge.svg\" alt=\"Open In Colab\"/></a>"
      ]
    },
    {
      "cell_type": "markdown",
      "metadata": {
        "id": "Ccmt_vsUn17A",
        "colab_type": "text"
      },
      "source": [
        "This Notebook will predict salary of a new job posting based on model created by historical data."
      ]
    },
    {
      "cell_type": "code",
      "metadata": {
        "id": "KTbtzDpXn0MQ",
        "colab_type": "code",
        "colab": {}
      },
      "source": [
        "__author__ = \"Sagar Goswami\"\n",
        "__email__ = \"sagar7958@gmail.com\""
      ],
      "execution_count": 0,
      "outputs": []
    },
    {
      "cell_type": "code",
      "metadata": {
        "id": "r4CIEhjwY4Hl",
        "colab_type": "code",
        "outputId": "40606b75-fafd-43d5-cad1-e6082e30f837",
        "colab": {
          "base_uri": "https://localhost:8080/",
          "height": 221
        }
      },
      "source": [
        "#Getting data from Dropbox \n",
        "!curl -L -o SalaryData.zip https://www.dropbox.com/sh/bh5rp4oaao5y8mt/AABpWmMOb4oUFHdJ28nABAo8a?dl=0\n",
        "!unzip SalaryData.zip"
      ],
      "execution_count": 0,
      "outputs": [
        {
          "output_type": "stream",
          "text": [
            "  % Total    % Received % Xferd  Average Speed   Time    Time     Time  Current\n",
            "                                 Dload  Upload   Total   Spent    Left  Speed\n",
            "\r  0     0    0     0    0     0      0      0 --:--:-- --:--:-- --:--:--     0\r  0     0    0     0    0     0      0      0 --:--:-- --:--:-- --:--:--     0\n",
            "  0     0    0     0    0     0      0      0 --:--:-- --:--:-- --:--:--     0\n",
            "100  131M    0  131M    0     0  30.9M      0 --:--:--  0:00:04 --:--:-- 38.5M\n",
            "Archive:  SalaryData.zip\n",
            "warning:  stripped absolute path spec from /\n",
            "mapname:  conversion of  failed\n",
            " extracting: test_features.csv       \n",
            " extracting: train_features.csv      \n",
            " extracting: train_salaries.csv      \n",
            " extracting: Salary Prediction Interview Assignment.docx  \n"
          ],
          "name": "stdout"
        }
      ]
    },
    {
      "cell_type": "code",
      "metadata": {
        "id": "fStehFgpZc0d",
        "colab_type": "code",
        "colab": {}
      },
      "source": [
        "%matplotlib inline\n",
        "import pandas as pd\n",
        "import seaborn as sns\n",
        "import matplotlib.pyplot as plt\n",
        "from sklearn.preprocessing import LabelEncoder\n",
        "from sklearn import  linear_model\n",
        "from sklearn.metrics import mean_squared_error, r2_score\n",
        "from sklearn.model_selection import train_test_split\n",
        "from sklearn.model_selection import cross_val_score\n",
        "from sklearn.preprocessing import MinMaxScaler\n",
        "\n",
        "sns.set(style=\"darkgrid\")\n",
        "\n"
      ],
      "execution_count": 0,
      "outputs": []
    },
    {
      "cell_type": "code",
      "metadata": {
        "id": "ybHJBahcQQQy",
        "colab_type": "code",
        "outputId": "c3775f89-b04f-44c6-a3a2-eac6758b2030",
        "colab": {
          "base_uri": "https://localhost:8080/",
          "height": 34
        }
      },
      "source": [
        "features= pd.read_csv(\"train_features.csv\")\n",
        "target = pd.read_csv(\"train_salaries.csv\")\n",
        "features.shape, target.shape\n"
      ],
      "execution_count": 0,
      "outputs": [
        {
          "output_type": "execute_result",
          "data": {
            "text/plain": [
              "((1000000, 8), (1000000, 2))"
            ]
          },
          "metadata": {
            "tags": []
          },
          "execution_count": 4
        }
      ]
    },
    {
      "cell_type": "code",
      "metadata": {
        "id": "odWGIxYMmHRV",
        "colab_type": "code",
        "outputId": "9e5b0994-0bc1-4a9f-9b8a-85f8e15bd101",
        "colab": {
          "base_uri": "https://localhost:8080/",
          "height": 357
        }
      },
      "source": [
        "features.info()  ,\n",
        "target.info()"
      ],
      "execution_count": 0,
      "outputs": [
        {
          "output_type": "stream",
          "text": [
            "<class 'pandas.core.frame.DataFrame'>\n",
            "RangeIndex: 1000000 entries, 0 to 999999\n",
            "Data columns (total 8 columns):\n",
            "jobId                  1000000 non-null object\n",
            "companyId              1000000 non-null object\n",
            "jobType                1000000 non-null object\n",
            "degree                 1000000 non-null object\n",
            "major                  1000000 non-null object\n",
            "industry               1000000 non-null object\n",
            "yearsExperience        1000000 non-null int64\n",
            "milesFromMetropolis    1000000 non-null int64\n",
            "dtypes: int64(2), object(6)\n",
            "memory usage: 61.0+ MB\n",
            "<class 'pandas.core.frame.DataFrame'>\n",
            "RangeIndex: 1000000 entries, 0 to 999999\n",
            "Data columns (total 2 columns):\n",
            "jobId     1000000 non-null object\n",
            "salary    1000000 non-null int64\n",
            "dtypes: int64(1), object(1)\n",
            "memory usage: 15.3+ MB\n"
          ],
          "name": "stdout"
        }
      ]
    },
    {
      "cell_type": "code",
      "metadata": {
        "id": "XrJnuuNFmsXM",
        "colab_type": "code",
        "outputId": "fb6ced9c-52e1-4d85-b5fa-314197b719a6",
        "colab": {
          "base_uri": "https://localhost:8080/",
          "height": 493
        }
      },
      "source": [
        "target.drop_duplicates() , features.drop_duplicates()"
      ],
      "execution_count": 0,
      "outputs": [
        {
          "output_type": "execute_result",
          "data": {
            "text/plain": [
              "(                   jobId  salary\n",
              " 0       JOB1362684407687     130\n",
              " 1       JOB1362684407688     101\n",
              " 2       JOB1362684407689     137\n",
              " 3       JOB1362684407690     142\n",
              " 4       JOB1362684407691     163\n",
              " ...                  ...     ...\n",
              " 999995  JOB1362685407682      88\n",
              " 999996  JOB1362685407683     160\n",
              " 999997  JOB1362685407684      64\n",
              " 999998  JOB1362685407685     149\n",
              " 999999  JOB1362685407686      88\n",
              " \n",
              " [1000000 rows x 2 columns],\n",
              "                    jobId companyId  ... yearsExperience milesFromMetropolis\n",
              " 0       JOB1362684407687    COMP37  ...              10                  83\n",
              " 1       JOB1362684407688    COMP19  ...               3                  73\n",
              " 2       JOB1362684407689    COMP52  ...              10                  38\n",
              " 3       JOB1362684407690    COMP38  ...               8                  17\n",
              " 4       JOB1362684407691     COMP7  ...               8                  16\n",
              " ...                  ...       ...  ...             ...                 ...\n",
              " 999995  JOB1362685407682    COMP56  ...              19                  94\n",
              " 999996  JOB1362685407683    COMP24  ...              12                  35\n",
              " 999997  JOB1362685407684    COMP23  ...              16                  81\n",
              " 999998  JOB1362685407685     COMP3  ...               6                   5\n",
              " 999999  JOB1362685407686    COMP59  ...              20                  11\n",
              " \n",
              " [1000000 rows x 8 columns])"
            ]
          },
          "metadata": {
            "tags": []
          },
          "execution_count": 6
        }
      ]
    },
    {
      "cell_type": "code",
      "metadata": {
        "id": "u-PU33ruZWo3",
        "colab_type": "code",
        "colab": {}
      },
      "source": [
        "training_set_with_label = pd.merge(features,target,on='jobId')"
      ],
      "execution_count": 0,
      "outputs": []
    },
    {
      "cell_type": "code",
      "metadata": {
        "id": "66dfU99lk4P9",
        "colab_type": "code",
        "outputId": "fb628d82-0dd5-45fb-97e3-d56711e51abf",
        "colab": {
          "base_uri": "https://localhost:8080/",
          "height": 255
        }
      },
      "source": [
        "training_set_with_label.info()"
      ],
      "execution_count": 0,
      "outputs": [
        {
          "output_type": "stream",
          "text": [
            "<class 'pandas.core.frame.DataFrame'>\n",
            "Int64Index: 1000000 entries, 0 to 999999\n",
            "Data columns (total 9 columns):\n",
            "jobId                  1000000 non-null object\n",
            "companyId              1000000 non-null object\n",
            "jobType                1000000 non-null object\n",
            "degree                 1000000 non-null object\n",
            "major                  1000000 non-null object\n",
            "industry               1000000 non-null object\n",
            "yearsExperience        1000000 non-null int64\n",
            "milesFromMetropolis    1000000 non-null int64\n",
            "salary                 1000000 non-null int64\n",
            "dtypes: int64(3), object(6)\n",
            "memory usage: 76.3+ MB\n"
          ],
          "name": "stdout"
        }
      ]
    },
    {
      "cell_type": "code",
      "metadata": {
        "id": "cCTsdyFNs34T",
        "colab_type": "code",
        "outputId": "04665355-d677-4689-e538-35350db4b98d",
        "colab": {
          "base_uri": "https://localhost:8080/",
          "height": 255
        }
      },
      "source": [
        "training_set_with_label = training_set_with_label[training_set_with_label['salary'] >0]\n",
        "training_set_with_label.info()"
      ],
      "execution_count": 0,
      "outputs": [
        {
          "output_type": "stream",
          "text": [
            "<class 'pandas.core.frame.DataFrame'>\n",
            "Int64Index: 999995 entries, 0 to 999999\n",
            "Data columns (total 9 columns):\n",
            "jobId                  999995 non-null object\n",
            "companyId              999995 non-null object\n",
            "jobType                999995 non-null object\n",
            "degree                 999995 non-null object\n",
            "major                  999995 non-null object\n",
            "industry               999995 non-null object\n",
            "yearsExperience        999995 non-null int64\n",
            "milesFromMetropolis    999995 non-null int64\n",
            "salary                 999995 non-null int64\n",
            "dtypes: int64(3), object(6)\n",
            "memory usage: 76.3+ MB\n"
          ],
          "name": "stdout"
        }
      ]
    },
    {
      "cell_type": "code",
      "metadata": {
        "id": "A8gLKuYqlzVJ",
        "colab_type": "code",
        "outputId": "c6e74cad-b1c0-4839-8602-34cb06bc2640",
        "colab": {
          "base_uri": "https://localhost:8080/",
          "height": 297
        }
      },
      "source": [
        "training_set_with_label.describe()"
      ],
      "execution_count": 0,
      "outputs": [
        {
          "output_type": "execute_result",
          "data": {
            "text/html": [
              "<div>\n",
              "<style scoped>\n",
              "    .dataframe tbody tr th:only-of-type {\n",
              "        vertical-align: middle;\n",
              "    }\n",
              "\n",
              "    .dataframe tbody tr th {\n",
              "        vertical-align: top;\n",
              "    }\n",
              "\n",
              "    .dataframe thead th {\n",
              "        text-align: right;\n",
              "    }\n",
              "</style>\n",
              "<table border=\"1\" class=\"dataframe\">\n",
              "  <thead>\n",
              "    <tr style=\"text-align: right;\">\n",
              "      <th></th>\n",
              "      <th>yearsExperience</th>\n",
              "      <th>milesFromMetropolis</th>\n",
              "      <th>salary</th>\n",
              "    </tr>\n",
              "  </thead>\n",
              "  <tbody>\n",
              "    <tr>\n",
              "      <th>count</th>\n",
              "      <td>999995.000000</td>\n",
              "      <td>999995.000000</td>\n",
              "      <td>999995.000000</td>\n",
              "    </tr>\n",
              "    <tr>\n",
              "      <th>mean</th>\n",
              "      <td>11.992407</td>\n",
              "      <td>49.529381</td>\n",
              "      <td>116.062398</td>\n",
              "    </tr>\n",
              "    <tr>\n",
              "      <th>std</th>\n",
              "      <td>7.212390</td>\n",
              "      <td>28.877721</td>\n",
              "      <td>38.717163</td>\n",
              "    </tr>\n",
              "    <tr>\n",
              "      <th>min</th>\n",
              "      <td>0.000000</td>\n",
              "      <td>0.000000</td>\n",
              "      <td>17.000000</td>\n",
              "    </tr>\n",
              "    <tr>\n",
              "      <th>25%</th>\n",
              "      <td>6.000000</td>\n",
              "      <td>25.000000</td>\n",
              "      <td>88.000000</td>\n",
              "    </tr>\n",
              "    <tr>\n",
              "      <th>50%</th>\n",
              "      <td>12.000000</td>\n",
              "      <td>50.000000</td>\n",
              "      <td>114.000000</td>\n",
              "    </tr>\n",
              "    <tr>\n",
              "      <th>75%</th>\n",
              "      <td>18.000000</td>\n",
              "      <td>75.000000</td>\n",
              "      <td>141.000000</td>\n",
              "    </tr>\n",
              "    <tr>\n",
              "      <th>max</th>\n",
              "      <td>24.000000</td>\n",
              "      <td>99.000000</td>\n",
              "      <td>301.000000</td>\n",
              "    </tr>\n",
              "  </tbody>\n",
              "</table>\n",
              "</div>"
            ],
            "text/plain": [
              "       yearsExperience  milesFromMetropolis         salary\n",
              "count    999995.000000        999995.000000  999995.000000\n",
              "mean         11.992407            49.529381     116.062398\n",
              "std           7.212390            28.877721      38.717163\n",
              "min           0.000000             0.000000      17.000000\n",
              "25%           6.000000            25.000000      88.000000\n",
              "50%          12.000000            50.000000     114.000000\n",
              "75%          18.000000            75.000000     141.000000\n",
              "max          24.000000            99.000000     301.000000"
            ]
          },
          "metadata": {
            "tags": []
          },
          "execution_count": 10
        }
      ]
    },
    {
      "cell_type": "code",
      "metadata": {
        "id": "W4C-htemnXX5",
        "colab_type": "code",
        "outputId": "d10760c9-05d9-4f7c-b9cf-9793a1555c1c",
        "colab": {
          "base_uri": "https://localhost:8080/",
          "height": 173
        }
      },
      "source": [
        "training_set_with_label.describe(include='object')"
      ],
      "execution_count": 0,
      "outputs": [
        {
          "output_type": "execute_result",
          "data": {
            "text/html": [
              "<div>\n",
              "<style scoped>\n",
              "    .dataframe tbody tr th:only-of-type {\n",
              "        vertical-align: middle;\n",
              "    }\n",
              "\n",
              "    .dataframe tbody tr th {\n",
              "        vertical-align: top;\n",
              "    }\n",
              "\n",
              "    .dataframe thead th {\n",
              "        text-align: right;\n",
              "    }\n",
              "</style>\n",
              "<table border=\"1\" class=\"dataframe\">\n",
              "  <thead>\n",
              "    <tr style=\"text-align: right;\">\n",
              "      <th></th>\n",
              "      <th>jobId</th>\n",
              "      <th>companyId</th>\n",
              "      <th>jobType</th>\n",
              "      <th>degree</th>\n",
              "      <th>major</th>\n",
              "      <th>industry</th>\n",
              "    </tr>\n",
              "  </thead>\n",
              "  <tbody>\n",
              "    <tr>\n",
              "      <th>count</th>\n",
              "      <td>999995</td>\n",
              "      <td>999995</td>\n",
              "      <td>999995</td>\n",
              "      <td>999995</td>\n",
              "      <td>999995</td>\n",
              "      <td>999995</td>\n",
              "    </tr>\n",
              "    <tr>\n",
              "      <th>unique</th>\n",
              "      <td>999995</td>\n",
              "      <td>63</td>\n",
              "      <td>8</td>\n",
              "      <td>5</td>\n",
              "      <td>9</td>\n",
              "      <td>7</td>\n",
              "    </tr>\n",
              "    <tr>\n",
              "      <th>top</th>\n",
              "      <td>JOB1362684627759</td>\n",
              "      <td>COMP39</td>\n",
              "      <td>SENIOR</td>\n",
              "      <td>HIGH_SCHOOL</td>\n",
              "      <td>NONE</td>\n",
              "      <td>WEB</td>\n",
              "    </tr>\n",
              "    <tr>\n",
              "      <th>freq</th>\n",
              "      <td>1</td>\n",
              "      <td>16193</td>\n",
              "      <td>125886</td>\n",
              "      <td>236975</td>\n",
              "      <td>532353</td>\n",
              "      <td>143205</td>\n",
              "    </tr>\n",
              "  </tbody>\n",
              "</table>\n",
              "</div>"
            ],
            "text/plain": [
              "                   jobId companyId jobType       degree   major industry\n",
              "count             999995    999995  999995       999995  999995   999995\n",
              "unique            999995        63       8            5       9        7\n",
              "top     JOB1362684627759    COMP39  SENIOR  HIGH_SCHOOL    NONE      WEB\n",
              "freq                   1     16193  125886       236975  532353   143205"
            ]
          },
          "metadata": {
            "tags": []
          },
          "execution_count": 11
        }
      ]
    },
    {
      "cell_type": "code",
      "metadata": {
        "id": "yBiLXywTDrnx",
        "colab_type": "code",
        "outputId": "8292f2a7-9657-4138-cb6b-f41dd38a0d5c",
        "colab": {
          "base_uri": "https://localhost:8080/",
          "height": 142
        }
      },
      "source": [
        "training_set_with_label.corr()"
      ],
      "execution_count": 0,
      "outputs": [
        {
          "output_type": "execute_result",
          "data": {
            "text/html": [
              "<div>\n",
              "<style scoped>\n",
              "    .dataframe tbody tr th:only-of-type {\n",
              "        vertical-align: middle;\n",
              "    }\n",
              "\n",
              "    .dataframe tbody tr th {\n",
              "        vertical-align: top;\n",
              "    }\n",
              "\n",
              "    .dataframe thead th {\n",
              "        text-align: right;\n",
              "    }\n",
              "</style>\n",
              "<table border=\"1\" class=\"dataframe\">\n",
              "  <thead>\n",
              "    <tr style=\"text-align: right;\">\n",
              "      <th></th>\n",
              "      <th>yearsExperience</th>\n",
              "      <th>milesFromMetropolis</th>\n",
              "      <th>salary</th>\n",
              "    </tr>\n",
              "  </thead>\n",
              "  <tbody>\n",
              "    <tr>\n",
              "      <th>yearsExperience</th>\n",
              "      <td>1.000000</td>\n",
              "      <td>0.000672</td>\n",
              "      <td>0.375013</td>\n",
              "    </tr>\n",
              "    <tr>\n",
              "      <th>milesFromMetropolis</th>\n",
              "      <td>0.000672</td>\n",
              "      <td>1.000000</td>\n",
              "      <td>-0.297686</td>\n",
              "    </tr>\n",
              "    <tr>\n",
              "      <th>salary</th>\n",
              "      <td>0.375013</td>\n",
              "      <td>-0.297686</td>\n",
              "      <td>1.000000</td>\n",
              "    </tr>\n",
              "  </tbody>\n",
              "</table>\n",
              "</div>"
            ],
            "text/plain": [
              "                     yearsExperience  milesFromMetropolis    salary\n",
              "yearsExperience             1.000000             0.000672  0.375013\n",
              "milesFromMetropolis         0.000672             1.000000 -0.297686\n",
              "salary                      0.375013            -0.297686  1.000000"
            ]
          },
          "metadata": {
            "tags": []
          },
          "execution_count": 12
        }
      ]
    },
    {
      "cell_type": "code",
      "metadata": {
        "id": "KQRIYr3xnhMF",
        "colab_type": "code",
        "outputId": "c901739a-3210-4d94-8d7b-cfc1be3bfe26",
        "colab": {
          "base_uri": "https://localhost:8080/",
          "height": 85
        }
      },
      "source": [
        "training_set_with_label.corr()['salary']"
      ],
      "execution_count": 0,
      "outputs": [
        {
          "output_type": "execute_result",
          "data": {
            "text/plain": [
              "yearsExperience        0.375013\n",
              "milesFromMetropolis   -0.297686\n",
              "salary                 1.000000\n",
              "Name: salary, dtype: float64"
            ]
          },
          "metadata": {
            "tags": []
          },
          "execution_count": 13
        }
      ]
    },
    {
      "cell_type": "code",
      "metadata": {
        "id": "zA_KwEoGoca-",
        "colab_type": "code",
        "outputId": "f1f535f8-29e7-4b2c-84b8-176f2f0aedbd",
        "colab": {
          "base_uri": "https://localhost:8080/",
          "height": 302
        }
      },
      "source": [
        "sns.boxplot('salary','jobType',data=training_set_with_label)"
      ],
      "execution_count": 0,
      "outputs": [
        {
          "output_type": "execute_result",
          "data": {
            "text/plain": [
              "<matplotlib.axes._subplots.AxesSubplot at 0x7f78cf8ceac8>"
            ]
          },
          "metadata": {
            "tags": []
          },
          "execution_count": 14
        },
        {
          "output_type": "display_data",
          "data": {
            "image/png": "[encoded data removed]",
            "text/plain": [
              "<Figure size 432x288 with 1 Axes>"
            ]
          },
          "metadata": {
            "tags": []
          }
        }
      ]
    },
    {
      "cell_type": "code",
      "metadata": {
        "id": "pbyovEsqo7rY",
        "colab_type": "code",
        "outputId": "243f02b1-8b8b-46a0-d367-8883dc480e3a",
        "colab": {
          "base_uri": "https://localhost:8080/",
          "height": 302
        }
      },
      "source": [
        "sns.boxplot('salary','degree',data=training_set_with_label)"
      ],
      "execution_count": 0,
      "outputs": [
        {
          "output_type": "execute_result",
          "data": {
            "text/plain": [
              "<matplotlib.axes._subplots.AxesSubplot at 0x7f78cf2f33c8>"
            ]
          },
          "metadata": {
            "tags": []
          },
          "execution_count": 15
        },
        {
          "output_type": "display_data",
          "data": {
            "image/png": "[encoded data removed]",
            "text/plain": [
              "<Figure size 432x288 with 1 Axes>"
            ]
          },
          "metadata": {
            "tags": []
          }
        }
      ]
    },
    {
      "cell_type": "code",
      "metadata": {
        "id": "2nNoiuCupoci",
        "colab_type": "code",
        "outputId": "4d53b9e1-2af3-4128-847e-49c4f3587884",
        "colab": {
          "base_uri": "https://localhost:8080/",
          "height": 302
        }
      },
      "source": [
        "sns.boxplot('salary','major',data=training_set_with_label)"
      ],
      "execution_count": 0,
      "outputs": [
        {
          "output_type": "execute_result",
          "data": {
            "text/plain": [
              "<matplotlib.axes._subplots.AxesSubplot at 0x7f78cf220668>"
            ]
          },
          "metadata": {
            "tags": []
          },
          "execution_count": 16
        },
        {
          "output_type": "display_data",
          "data": {
            "image/png": "[encoded data removed]",
            "text/plain": [
              "<Figure size 432x288 with 1 Axes>"
            ]
          },
          "metadata": {
            "tags": []
          }
        }
      ]
    },
    {
      "cell_type": "code",
      "metadata": {
        "id": "G4UVbP0zpuZ0",
        "colab_type": "code",
        "outputId": "9fda7d9e-98e6-453e-fe29-d5c6508890b0",
        "colab": {
          "base_uri": "https://localhost:8080/",
          "height": 302
        }
      },
      "source": [
        "sns.boxplot('salary','industry',data=training_set_with_label)"
      ],
      "execution_count": 0,
      "outputs": [
        {
          "output_type": "execute_result",
          "data": {
            "text/plain": [
              "<matplotlib.axes._subplots.AxesSubplot at 0x7f78cf20b780>"
            ]
          },
          "metadata": {
            "tags": []
          },
          "execution_count": 17
        },
        {
          "output_type": "display_data",
          "data": {
            "image/png": "[encoded data removed]",
            "text/plain": [
              "<Figure size 432x288 with 1 Axes>"
            ]
          },
          "metadata": {
            "tags": []
          }
        }
      ]
    },
    {
      "cell_type": "code",
      "metadata": {
        "id": "PJ5QzoYvpywQ",
        "colab_type": "code",
        "outputId": "a4983585-ec63-467d-8670-482dfdc783e6",
        "colab": {
          "base_uri": "https://localhost:8080/",
          "height": 302
        }
      },
      "source": [
        "sns.distplot(training_set_with_label['salary'])"
      ],
      "execution_count": 0,
      "outputs": [
        {
          "output_type": "execute_result",
          "data": {
            "text/plain": [
              "<matplotlib.axes._subplots.AxesSubplot at 0x7f78cf20b080>"
            ]
          },
          "metadata": {
            "tags": []
          },
          "execution_count": 18
        },
        {
          "output_type": "display_data",
          "data": {
            "image/png": "[encoded data removed]",
            "text/plain": [
              "<Figure size 432x288 with 1 Axes>"
            ]
          },
          "metadata": {
            "tags": []
          }
        }
      ]
    },
    {
      "cell_type": "code",
      "metadata": {
        "id": "hj6O3hUprGu9",
        "colab_type": "code",
        "outputId": "984c3662-4be9-4903-fcd3-d2303a2bad3b",
        "colab": {
          "base_uri": "https://localhost:8080/",
          "height": 302
        }
      },
      "source": [
        "sns.countplot(training_set_with_label['yearsExperience'])"
      ],
      "execution_count": 0,
      "outputs": [
        {
          "output_type": "execute_result",
          "data": {
            "text/plain": [
              "<matplotlib.axes._subplots.AxesSubplot at 0x7f78cf074f60>"
            ]
          },
          "metadata": {
            "tags": []
          },
          "execution_count": 19
        },
        {
          "output_type": "display_data",
          "data": {
            "image/png": "[encoded data removed]",
            "text/plain": [
              "<Figure size 432x288 with 1 Axes>"
            ]
          },
          "metadata": {
            "tags": []
          }
        }
      ]
    },
    {
      "cell_type": "code",
      "metadata": {
        "id": "2o0aaclMr1qk",
        "colab_type": "code",
        "outputId": "291b4b64-4a11-4136-e832-62aa22283a10",
        "colab": {
          "base_uri": "https://localhost:8080/",
          "height": 302
        }
      },
      "source": [
        "sns.distplot(training_set_with_label['milesFromMetropolis'])"
      ],
      "execution_count": 0,
      "outputs": [
        {
          "output_type": "execute_result",
          "data": {
            "text/plain": [
              "<matplotlib.axes._subplots.AxesSubplot at 0x7f78cf069320>"
            ]
          },
          "metadata": {
            "tags": []
          },
          "execution_count": 20
        },
        {
          "output_type": "display_data",
          "data": {
            "image/png": "[encoded data removed]",
            "text/plain": [
              "<Figure size 432x288 with 1 Axes>"
            ]
          },
          "metadata": {
            "tags": []
          }
        }
      ]
    },
    {
      "cell_type": "code",
      "metadata": {
        "id": "I9q2ztoasMNh",
        "colab_type": "code",
        "outputId": "3cc70ed9-39f9-40a3-ea51-15ff0f7ddaf3",
        "colab": {
          "base_uri": "https://localhost:8080/",
          "height": 34
        }
      },
      "source": [
        "outliers_value = training_set_with_label['salary'].mean()*1.5\n",
        "outliers_value"
      ],
      "execution_count": 0,
      "outputs": [
        {
          "output_type": "execute_result",
          "data": {
            "text/plain": [
              "174.09359746798734"
            ]
          },
          "metadata": {
            "tags": []
          },
          "execution_count": 21
        }
      ]
    },
    {
      "cell_type": "code",
      "metadata": {
        "id": "qaKGvfuTv5WJ",
        "colab_type": "code",
        "outputId": "a9ff9475-dc8a-408c-f16e-9459f3d44867",
        "colab": {
          "base_uri": "https://localhost:8080/",
          "height": 187
        }
      },
      "source": [
        "outliers=training_set_with_label[training_set_with_label['salary']>=outliers_value]\n",
        "outliers.count()"
      ],
      "execution_count": 0,
      "outputs": [
        {
          "output_type": "execute_result",
          "data": {
            "text/plain": [
              "jobId                  75321\n",
              "companyId              75321\n",
              "jobType                75321\n",
              "degree                 75321\n",
              "major                  75321\n",
              "industry               75321\n",
              "yearsExperience        75321\n",
              "milesFromMetropolis    75321\n",
              "salary                 75321\n",
              "dtype: int64"
            ]
          },
          "metadata": {
            "tags": []
          },
          "execution_count": 22
        }
      ]
    },
    {
      "cell_type": "code",
      "metadata": {
        "id": "8I1Im5NYwPPL",
        "colab_type": "code",
        "outputId": "f52067f5-b0de-4a2b-e15d-698d1bc10c14",
        "colab": {
          "base_uri": "https://localhost:8080/",
          "height": 255
        }
      },
      "source": [
        "outliers.info()"
      ],
      "execution_count": 0,
      "outputs": [
        {
          "output_type": "stream",
          "text": [
            "<class 'pandas.core.frame.DataFrame'>\n",
            "Int64Index: 75321 entries, 6 to 999979\n",
            "Data columns (total 9 columns):\n",
            "jobId                  75321 non-null object\n",
            "companyId              75321 non-null object\n",
            "jobType                75321 non-null object\n",
            "degree                 75321 non-null object\n",
            "major                  75321 non-null object\n",
            "industry               75321 non-null object\n",
            "yearsExperience        75321 non-null int64\n",
            "milesFromMetropolis    75321 non-null int64\n",
            "salary                 75321 non-null int64\n",
            "dtypes: int64(3), object(6)\n",
            "memory usage: 5.7+ MB\n"
          ],
          "name": "stdout"
        }
      ]
    },
    {
      "cell_type": "code",
      "metadata": {
        "id": "fbDRS3cewild",
        "colab_type": "code",
        "outputId": "2ee22f23-6baf-4897-e108-f706732d066d",
        "colab": {
          "base_uri": "https://localhost:8080/",
          "height": 441
        }
      },
      "source": [
        "sns.boxenplot('salary','industry',data=outliers)"
      ],
      "execution_count": 0,
      "outputs": [
        {
          "output_type": "stream",
          "text": [
            "'c' argument looks like a single numeric RGB or RGBA sequence, which should be avoided as value-mapping will have precedence in case its length matches with 'x' & 'y'.  Please use a 2-D array with a single row if you really want to specify the same RGB or RGBA value for all points.\n",
            "'c' argument looks like a single numeric RGB or RGBA sequence, which should be avoided as value-mapping will have precedence in case its length matches with 'x' & 'y'.  Please use a 2-D array with a single row if you really want to specify the same RGB or RGBA value for all points.\n",
            "'c' argument looks like a single numeric RGB or RGBA sequence, which should be avoided as value-mapping will have precedence in case its length matches with 'x' & 'y'.  Please use a 2-D array with a single row if you really want to specify the same RGB or RGBA value for all points.\n",
            "'c' argument looks like a single numeric RGB or RGBA sequence, which should be avoided as value-mapping will have precedence in case its length matches with 'x' & 'y'.  Please use a 2-D array with a single row if you really want to specify the same RGB or RGBA value for all points.\n",
            "'c' argument looks like a single numeric RGB or RGBA sequence, which should be avoided as value-mapping will have precedence in case its length matches with 'x' & 'y'.  Please use a 2-D array with a single row if you really want to specify the same RGB or RGBA value for all points.\n",
            "'c' argument looks like a single numeric RGB or RGBA sequence, which should be avoided as value-mapping will have precedence in case its length matches with 'x' & 'y'.  Please use a 2-D array with a single row if you really want to specify the same RGB or RGBA value for all points.\n",
            "'c' argument looks like a single numeric RGB or RGBA sequence, which should be avoided as value-mapping will have precedence in case its length matches with 'x' & 'y'.  Please use a 2-D array with a single row if you really want to specify the same RGB or RGBA value for all points.\n"
          ],
          "name": "stderr"
        },
        {
          "output_type": "execute_result",
          "data": {
            "text/plain": [
              "<matplotlib.axes._subplots.AxesSubplot at 0x7f78cedff668>"
            ]
          },
          "metadata": {
            "tags": []
          },
          "execution_count": 24
        },
        {
          "output_type": "display_data",
          "data": {
            "image/png": "[encoded data removed]",
            "text/plain": [
              "<Figure size 432x288 with 1 Axes>"
            ]
          },
          "metadata": {
            "tags": []
          }
        }
      ]
    },
    {
      "cell_type": "code",
      "metadata": {
        "id": "MR-8MqrUw-IJ",
        "colab_type": "code",
        "outputId": "17f315d7-df39-4450-974c-41608e705e7a",
        "colab": {
          "base_uri": "https://localhost:8080/",
          "height": 382
        }
      },
      "source": [
        "sns.catplot(\"yearsExperience\",\"salary\",data=outliers)"
      ],
      "execution_count": 0,
      "outputs": [
        {
          "output_type": "execute_result",
          "data": {
            "text/plain": [
              "<seaborn.axisgrid.FacetGrid at 0x7f78cee6b0f0>"
            ]
          },
          "metadata": {
            "tags": []
          },
          "execution_count": 25
        },
        {
          "output_type": "display_data",
          "data": {
            "image/png": "[encoded data removed]",
            "text/plain": [
              "<Figure size 360x360 with 1 Axes>"
            ]
          },
          "metadata": {
            "tags": []
          }
        }
      ]
    },
    {
      "cell_type": "code",
      "metadata": {
        "id": "E2eYTJwhyh1H",
        "colab_type": "code",
        "outputId": "16ca3c8b-6e9a-4ac2-9fed-a60233a3ccfb",
        "colab": {
          "base_uri": "https://localhost:8080/",
          "height": 382
        }
      },
      "source": [
        "sns.catplot(\"yearsExperience\",\"salary\",data=training_set_with_label)"
      ],
      "execution_count": 0,
      "outputs": [
        {
          "output_type": "execute_result",
          "data": {
            "text/plain": [
              "<seaborn.axisgrid.FacetGrid at 0x7f78cb4499e8>"
            ]
          },
          "metadata": {
            "tags": []
          },
          "execution_count": 26
        },
        {
          "output_type": "display_data",
          "data": {
            "image/png": "[encoded data removed]",
            "text/plain": [
              "<Figure size 360x360 with 1 Axes>"
            ]
          },
          "metadata": {
            "tags": []
          }
        }
      ]
    },
    {
      "cell_type": "code",
      "metadata": {
        "id": "g_okEVIJzKam",
        "colab_type": "code",
        "outputId": "362452cd-7655-4020-a266-453ea6c0dce6",
        "colab": {
          "base_uri": "https://localhost:8080/",
          "height": 34
        }
      },
      "source": [
        "training_set_with_label.isnull().values.sum()"
      ],
      "execution_count": 0,
      "outputs": [
        {
          "output_type": "execute_result",
          "data": {
            "text/plain": [
              "0"
            ]
          },
          "metadata": {
            "tags": []
          },
          "execution_count": 27
        }
      ]
    },
    {
      "cell_type": "code",
      "metadata": {
        "id": "2SGF4ajiGMAj",
        "colab_type": "code",
        "outputId": "680f311b-69a9-4aad-dd56-a98f5f6757d3",
        "colab": {
          "base_uri": "https://localhost:8080/",
          "height": 204
        }
      },
      "source": [
        "categorical_data= training_set_with_label.iloc[:,:5]\n",
        "categorical_data.head()"
      ],
      "execution_count": 0,
      "outputs": [
        {
          "output_type": "execute_result",
          "data": {
            "text/html": [
              "<div>\n",
              "<style scoped>\n",
              "    .dataframe tbody tr th:only-of-type {\n",
              "        vertical-align: middle;\n",
              "    }\n",
              "\n",
              "    .dataframe tbody tr th {\n",
              "        vertical-align: top;\n",
              "    }\n",
              "\n",
              "    .dataframe thead th {\n",
              "        text-align: right;\n",
              "    }\n",
              "</style>\n",
              "<table border=\"1\" class=\"dataframe\">\n",
              "  <thead>\n",
              "    <tr style=\"text-align: right;\">\n",
              "      <th></th>\n",
              "      <th>jobId</th>\n",
              "      <th>companyId</th>\n",
              "      <th>jobType</th>\n",
              "      <th>degree</th>\n",
              "      <th>major</th>\n",
              "    </tr>\n",
              "  </thead>\n",
              "  <tbody>\n",
              "    <tr>\n",
              "      <th>0</th>\n",
              "      <td>JOB1362684407687</td>\n",
              "      <td>COMP37</td>\n",
              "      <td>CFO</td>\n",
              "      <td>MASTERS</td>\n",
              "      <td>MATH</td>\n",
              "    </tr>\n",
              "    <tr>\n",
              "      <th>1</th>\n",
              "      <td>JOB1362684407688</td>\n",
              "      <td>COMP19</td>\n",
              "      <td>CEO</td>\n",
              "      <td>HIGH_SCHOOL</td>\n",
              "      <td>NONE</td>\n",
              "    </tr>\n",
              "    <tr>\n",
              "      <th>2</th>\n",
              "      <td>JOB1362684407689</td>\n",
              "      <td>COMP52</td>\n",
              "      <td>VICE_PRESIDENT</td>\n",
              "      <td>DOCTORAL</td>\n",
              "      <td>PHYSICS</td>\n",
              "    </tr>\n",
              "    <tr>\n",
              "      <th>3</th>\n",
              "      <td>JOB1362684407690</td>\n",
              "      <td>COMP38</td>\n",
              "      <td>MANAGER</td>\n",
              "      <td>DOCTORAL</td>\n",
              "      <td>CHEMISTRY</td>\n",
              "    </tr>\n",
              "    <tr>\n",
              "      <th>4</th>\n",
              "      <td>JOB1362684407691</td>\n",
              "      <td>COMP7</td>\n",
              "      <td>VICE_PRESIDENT</td>\n",
              "      <td>BACHELORS</td>\n",
              "      <td>PHYSICS</td>\n",
              "    </tr>\n",
              "  </tbody>\n",
              "</table>\n",
              "</div>"
            ],
            "text/plain": [
              "              jobId companyId         jobType       degree      major\n",
              "0  JOB1362684407687    COMP37             CFO      MASTERS       MATH\n",
              "1  JOB1362684407688    COMP19             CEO  HIGH_SCHOOL       NONE\n",
              "2  JOB1362684407689    COMP52  VICE_PRESIDENT     DOCTORAL    PHYSICS\n",
              "3  JOB1362684407690    COMP38         MANAGER     DOCTORAL  CHEMISTRY\n",
              "4  JOB1362684407691     COMP7  VICE_PRESIDENT    BACHELORS    PHYSICS"
            ]
          },
          "metadata": {
            "tags": []
          },
          "execution_count": 28
        }
      ]
    },
    {
      "cell_type": "code",
      "metadata": {
        "id": "eEo9Jd7-LWyo",
        "colab_type": "code",
        "outputId": "1e8d704d-832d-4d4a-adda-1e48f3d41fdb",
        "colab": {
          "base_uri": "https://localhost:8080/",
          "height": 204
        }
      },
      "source": [
        "Encoder = LabelEncoder()\n",
        "encoded_data = training_set_with_label.apply(Encoder.fit_transform)\n",
        "encoded_data.head()"
      ],
      "execution_count": 0,
      "outputs": [
        {
          "output_type": "execute_result",
          "data": {
            "text/html": [
              "<div>\n",
              "<style scoped>\n",
              "    .dataframe tbody tr th:only-of-type {\n",
              "        vertical-align: middle;\n",
              "    }\n",
              "\n",
              "    .dataframe tbody tr th {\n",
              "        vertical-align: top;\n",
              "    }\n",
              "\n",
              "    .dataframe thead th {\n",
              "        text-align: right;\n",
              "    }\n",
              "</style>\n",
              "<table border=\"1\" class=\"dataframe\">\n",
              "  <thead>\n",
              "    <tr style=\"text-align: right;\">\n",
              "      <th></th>\n",
              "      <th>jobId</th>\n",
              "      <th>companyId</th>\n",
              "      <th>jobType</th>\n",
              "      <th>degree</th>\n",
              "      <th>major</th>\n",
              "      <th>industry</th>\n",
              "      <th>yearsExperience</th>\n",
              "      <th>milesFromMetropolis</th>\n",
              "      <th>salary</th>\n",
              "    </tr>\n",
              "  </thead>\n",
              "  <tbody>\n",
              "    <tr>\n",
              "      <th>0</th>\n",
              "      <td>0</td>\n",
              "      <td>31</td>\n",
              "      <td>1</td>\n",
              "      <td>3</td>\n",
              "      <td>6</td>\n",
              "      <td>3</td>\n",
              "      <td>10</td>\n",
              "      <td>83</td>\n",
              "      <td>113</td>\n",
              "    </tr>\n",
              "    <tr>\n",
              "      <th>1</th>\n",
              "      <td>1</td>\n",
              "      <td>11</td>\n",
              "      <td>0</td>\n",
              "      <td>2</td>\n",
              "      <td>7</td>\n",
              "      <td>6</td>\n",
              "      <td>3</td>\n",
              "      <td>73</td>\n",
              "      <td>84</td>\n",
              "    </tr>\n",
              "    <tr>\n",
              "      <th>2</th>\n",
              "      <td>2</td>\n",
              "      <td>48</td>\n",
              "      <td>7</td>\n",
              "      <td>1</td>\n",
              "      <td>8</td>\n",
              "      <td>3</td>\n",
              "      <td>10</td>\n",
              "      <td>38</td>\n",
              "      <td>120</td>\n",
              "    </tr>\n",
              "    <tr>\n",
              "      <th>3</th>\n",
              "      <td>3</td>\n",
              "      <td>32</td>\n",
              "      <td>5</td>\n",
              "      <td>1</td>\n",
              "      <td>2</td>\n",
              "      <td>0</td>\n",
              "      <td>8</td>\n",
              "      <td>17</td>\n",
              "      <td>125</td>\n",
              "    </tr>\n",
              "    <tr>\n",
              "      <th>4</th>\n",
              "      <td>4</td>\n",
              "      <td>60</td>\n",
              "      <td>7</td>\n",
              "      <td>0</td>\n",
              "      <td>8</td>\n",
              "      <td>2</td>\n",
              "      <td>8</td>\n",
              "      <td>16</td>\n",
              "      <td>146</td>\n",
              "    </tr>\n",
              "  </tbody>\n",
              "</table>\n",
              "</div>"
            ],
            "text/plain": [
              "   jobId  companyId  jobType  ...  yearsExperience  milesFromMetropolis  salary\n",
              "0      0         31        1  ...               10                   83     113\n",
              "1      1         11        0  ...                3                   73      84\n",
              "2      2         48        7  ...               10                   38     120\n",
              "3      3         32        5  ...                8                   17     125\n",
              "4      4         60        7  ...                8                   16     146\n",
              "\n",
              "[5 rows x 9 columns]"
            ]
          },
          "metadata": {
            "tags": []
          },
          "execution_count": 29
        }
      ]
    },
    {
      "cell_type": "code",
      "metadata": {
        "id": "5sPXSiBqYMQ0",
        "colab_type": "code",
        "colab": {}
      },
      "source": [
        "#  scaler = MinMaxScaler()\n",
        "#  scaled_encoded_df = pd.DataFrame(scaler.fit_transform(encoded_data), columns=encoded_data.columns)\n",
        " \n",
        "#  scaled_encoded_df.head()"
      ],
      "execution_count": 0,
      "outputs": []
    },
    {
      "cell_type": "code",
      "metadata": {
        "id": "NHcS55MGHdGU",
        "colab_type": "code",
        "colab": {}
      },
      "source": [
        "#Baseline Regression Model\n",
        "input_features=encoded_data.drop(columns=['salary','jobId','companyId'])\n",
        "target=encoded_data['salary']\n",
        "X_train, X_test, y_train, y_test = train_test_split(input_features, target, test_size=0.3, random_state=1)"
      ],
      "execution_count": 0,
      "outputs": []
    },
    {
      "cell_type": "code",
      "metadata": {
        "id": "WcrUDDS9OM7y",
        "colab_type": "code",
        "outputId": "f2e1caee-d133-4b6c-9d2f-1aa56f62d0e5",
        "colab": {
          "base_uri": "https://localhost:8080/",
          "height": 34
        }
      },
      "source": [
        "regr = linear_model.LinearRegression()\n",
        "regr.fit(X_train,y_train)"
      ],
      "execution_count": 0,
      "outputs": [
        {
          "output_type": "execute_result",
          "data": {
            "text/plain": [
              "LinearRegression(copy_X=True, fit_intercept=True, n_jobs=None, normalize=False)"
            ]
          },
          "metadata": {
            "tags": []
          },
          "execution_count": 32
        }
      ]
    },
    {
      "cell_type": "code",
      "metadata": {
        "id": "fDA8yxU2OuGW",
        "colab_type": "code",
        "outputId": "4805862b-90ee-42c7-8800-7d9189805c48",
        "colab": {
          "base_uri": "https://localhost:8080/",
          "height": 51
        }
      },
      "source": [
        "y_pred = regr.predict(X_test)\n",
        "\n",
        "# The coefficients\n",
        "#print('Coefficients: \\n', regr.coef_)\n",
        "# The mean squared error\n",
        "print(\"Mean squared error: %.2f\"\n",
        "      % mean_squared_error(y_test, y_pred))\n",
        "# Explained variance score: 1 is perfect prediction\n",
        "print('Variance score: %.2f' % r2_score(y_test,y_pred))"
      ],
      "execution_count": 0,
      "outputs": [
        {
          "output_type": "stream",
          "text": [
            "Mean squared error: 927.22\n",
            "Variance score: 0.38\n"
          ],
          "name": "stdout"
        }
      ]
    },
    {
      "cell_type": "code",
      "metadata": {
        "id": "Qub6YdCLRJi7",
        "colab_type": "code",
        "outputId": "242845ff-eb99-4110-8d38-13160b27afa1",
        "colab": {
          "base_uri": "https://localhost:8080/",
          "height": 136
        }
      },
      "source": [
        "from sklearn.ensemble import RandomForestRegressor\n",
        "# criterion='gini'\n",
        "regr_RF = RandomForestRegressor(max_depth=18, random_state=17, n_jobs=-1,n_estimators=160)\n",
        "regr_RF.fit(X_train, y_train) "
      ],
      "execution_count": 0,
      "outputs": [
        {
          "output_type": "execute_result",
          "data": {
            "text/plain": [
              "RandomForestRegressor(bootstrap=True, criterion='mse', max_depth=18,\n",
              "                      max_features='auto', max_leaf_nodes=None,\n",
              "                      min_impurity_decrease=0.0, min_impurity_split=None,\n",
              "                      min_samples_leaf=1, min_samples_split=2,\n",
              "                      min_weight_fraction_leaf=0.0, n_estimators=160, n_jobs=-1,\n",
              "                      oob_score=False, random_state=17, verbose=0,\n",
              "                      warm_start=False)"
            ]
          },
          "metadata": {
            "tags": []
          },
          "execution_count": 34
        }
      ]
    },
    {
      "cell_type": "code",
      "metadata": {
        "id": "rco0PWYKmHRz",
        "colab_type": "code",
        "outputId": "b22e51f4-b75f-47c1-ac50-609d8fd56c6f",
        "colab": {
          "base_uri": "https://localhost:8080/",
          "height": 51
        }
      },
      "source": [
        "y_pred = regr_RF.predict(X_test)\n",
        "\n",
        "# The coefficients\n",
        "#print('Coefficients: \\n', regr.coef_)\n",
        "# The mean squared error\n",
        "print(\"Mean squared error: %.2f\"\n",
        "      % mean_squared_error(y_test, y_pred))\n",
        "# Explained variance score: 1 is perfect prediction\n",
        "print('Variance score: %.2f' % r2_score(y_test,y_pred))"
      ],
      "execution_count": 0,
      "outputs": [
        {
          "output_type": "stream",
          "text": [
            "Mean squared error: 395.59\n",
            "Variance score: 0.74\n"
          ],
          "name": "stdout"
        }
      ]
    },
    {
      "cell_type": "code",
      "metadata": {
        "id": "hbyIadfPmiBi",
        "colab_type": "code",
        "colab": {}
      },
      "source": [
        "import xgboost\n",
        "\n",
        "regr_XgBoost = xgboost.XGBRegressor(colsample_bytree=0.4,\n",
        "                 gamma=0,                 \n",
        "                 learning_rate=0.07,\n",
        "                 max_depth=3,\n",
        "                 min_child_weight=1.5,\n",
        "                 n_estimators=10000,                                                                    \n",
        "                 reg_alpha=0.75,\n",
        "                 reg_lambda=0.45,\n",
        "                 subsample=0.6,\n",
        "                 seed=42)"
      ],
      "execution_count": 0,
      "outputs": []
    },
    {
      "cell_type": "code",
      "metadata": {
        "id": "22VrzjiVacxn",
        "colab_type": "code",
        "outputId": "9daba83a-2101-4561-8b0f-2b0dc347ec4b",
        "colab": {
          "base_uri": "https://localhost:8080/",
          "height": 204
        }
      },
      "source": [
        "regr_XgBoost.fit(X_train,y_train)"
      ],
      "execution_count": 39,
      "outputs": [
        {
          "output_type": "stream",
          "text": [
            "/usr/local/lib/python3.6/dist-packages/xgboost/core.py:587: FutureWarning: Series.base is deprecated and will be removed in a future version\n",
            "  if getattr(data, 'base', None) is not None and \\\n"
          ],
          "name": "stderr"
        },
        {
          "output_type": "stream",
          "text": [
            "[10:31:40] WARNING: /workspace/src/objective/regression_obj.cu:152: reg:linear is now deprecated in favor of reg:squarederror.\n"
          ],
          "name": "stdout"
        },
        {
          "output_type": "execute_result",
          "data": {
            "text/plain": [
              "XGBRegressor(base_score=0.5, booster='gbtree', colsample_bylevel=1,\n",
              "             colsample_bynode=1, colsample_bytree=0.4, gamma=0,\n",
              "             importance_type='gain', learning_rate=0.07, max_delta_step=0,\n",
              "             max_depth=3, min_child_weight=1.5, missing=None,\n",
              "             n_estimators=10000, n_jobs=1, nthread=None, objective='reg:linear',\n",
              "             random_state=0, reg_alpha=0.75, reg_lambda=0.45,\n",
              "             scale_pos_weight=1, seed=42, silent=None, subsample=0.6,\n",
              "             verbosity=1)"
            ]
          },
          "metadata": {
            "tags": []
          },
          "execution_count": 39
        }
      ]
    },
    {
      "cell_type": "code",
      "metadata": {
        "id": "KNnnzGdPavH9",
        "colab_type": "code",
        "colab": {
          "base_uri": "https://localhost:8080/",
          "height": 51
        },
        "outputId": "1dc30b28-d09b-4f3e-e06b-ea260b0e5809"
      },
      "source": [
        "y_pred = regr_XgBoost.predict(X_test)\n",
        "\n",
        "# The coefficients\n",
        "#print('Coefficients: \\n', regr.coef_)\n",
        "# The mean squared error\n",
        "print(\"Mean squared error: %.2f\"\n",
        "      % mean_squared_error(y_test, y_pred))\n",
        "# Explained variance score: 1 is perfect prediction\n",
        "print('Variance score: %.2f' % r2_score(y_test,y_pred))"
      ],
      "execution_count": 40,
      "outputs": [
        {
          "output_type": "stream",
          "text": [
            "Mean squared error: 355.53\n",
            "Variance score: 0.76\n"
          ],
          "name": "stdout"
        }
      ]
    },
    {
      "cell_type": "code",
      "metadata": {
        "id": "dGhUn6dIalzf",
        "colab_type": "code",
        "colab": {}
      },
      "source": [
        ""
      ],
      "execution_count": 0,
      "outputs": []
    }
  ]
}